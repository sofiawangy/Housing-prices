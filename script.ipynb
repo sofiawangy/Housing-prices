{
 "cells": [
  {
   "cell_type": "code",
   "execution_count": null,
   "metadata": {},
   "outputs": [],
   "source": [
    "#Import packages"
   ]
  },
  {
   "cell_type": "code",
   "execution_count": 7,
   "metadata": {},
   "outputs": [],
   "source": [
    "import pandas as pd\n",
    "import numpy as np\n",
    "from sklearn.preprocessing import LabelEncoder\n",
    "from sklearn.linear_model import LinearRegression\n",
    "import matplotlib.pyplot as plt\n",
    "from statsmodels.stats.outliers_influence import variance_inflation_factor\n",
    "import statsmodels.api as sm\n",
    "from sklearn.model_selection import train_test_split\n",
    "import seaborn as sns"
   ]
  },
  {
   "cell_type": "code",
   "execution_count": 2,
   "metadata": {},
   "outputs": [
    {
     "data": {
      "text/plain": [
       "(1460, 80)"
      ]
     },
     "execution_count": 2,
     "metadata": {},
     "output_type": "execute_result"
    }
   ],
   "source": [
    "#Read data\n",
    "\n",
    "train = pd.read_csv('train.csv', index_col = 0)\n",
    "test = pd.read_csv('test.csv', index_col = 0)\n",
    "\n",
    "#set features and target\n",
    "\n",
    "x_train1 = train.iloc[:, :-1]\n",
    "y_train = train.iloc[:, -1]\n",
    "\n",
    "train.shape"
   ]
  },
  {
   "cell_type": "code",
   "execution_count": 3,
   "metadata": {},
   "outputs": [],
   "source": [
    "#Define continuous and categorical variables\n",
    "\n",
    "cont =['LotFrontage', 'LotArea', 'MasVnrArea', 'HalfBath', 'BedroomAbvGr', 'KitchenAbvGr', 'TotRmsAbvGrd', 'Fireplaces', 'GarageCars', 'GarageArea', \n",
    "       'WoodDeckSF', 'OpenPorchSF', 'EnclosedPorch', '3SsnPorch', 'ScreenPorch', 'PoolArea', 'MiscVal', 'BsmtFinSF1', 'BsmtFinSF2', 'BsmtUnfSF', \n",
    "       'TotalBsmtSF', '1stFlrSF', '2ndFlrSF', 'LowQualFinSF', 'GrLivArea', 'BsmtFullBath', 'BsmtHalfBath', 'FullBath']\n",
    "\n",
    "cat = list(set(x_train1.columns) - set(cont))\n",
    "\n",
    "#make sure categorical vars are strings\n",
    "x_train1[cat] = x_train1[cat].astype(str)\n",
    "test[cat] = test[cat].astype(str)\n",
    "\n",
    "#Encode categorical\n",
    "\n",
    "le = LabelEncoder()\n",
    "\n",
    "x_train2= pd.DataFrame()\n",
    "test2= pd.DataFrame() #For use later\n",
    "\n",
    "for i in cat:\n",
    "    x_train2[i] = le.fit_transform(x_train1[i])\n",
    "    test2[i] = le.fit_transform(test[i])\n",
    "\n",
    "#merge encoded and continuous variables\n",
    "x_train2 = np.concatenate((x_train2, x_train1[cont]), axis=1)\n",
    "test2 = np.concatenate((test2, test[cont]), axis=1)\n",
    "\n",
    "columnNames  = cat + cont\n",
    "x_train2 = pd.DataFrame(x_train2, columns = columnNames)\n",
    "test2 = pd.DataFrame(test2, columns = columnNames)\n",
    "\n",
    "#Remove NaN with 0\n",
    "x_train2.fillna(0, inplace=True)\n",
    "test2.fillna(0, inplace=True)"
   ]
  },
  {
   "cell_type": "code",
   "execution_count": 4,
   "metadata": {},
   "outputs": [
    {
     "name": "stdout",
     "output_type": "stream",
     "text": [
      "0.8410659155298942\n",
      "0.8381266757874085\n"
     ]
    },
    {
     "data": {
      "image/png": "[encoded data removed]",
      "text/plain": [
       "<Figure size 432x288 with 1 Axes>"
      ]
     },
     "metadata": {
      "needs_background": "light"
     },
     "output_type": "display_data"
    }
   ],
   "source": [
    "#get R^2 with multiple linear\n",
    "X_train_cv, X_test_cv, y_train_cv, y_test_cv = train_test_split(x_train2, y_train, test_size=0.3, random_state=42)\n",
    "\n",
    "lm = LinearRegression()\n",
    "lm.fit(X_train_cv, y_train_cv)\n",
    "residuals = y_train_cv - lm.predict(X_train_cv)\n",
    "plt.hist(residuals)\n",
    "\n",
    "print(lm.score(X_train_cv, y_train_cv)) #0.841\n",
    "print(lm.score(X_test_cv, y_test_cv)) #0.838, slight under fitting?"
   ]
  },
  {
   "cell_type": "code",
   "execution_count": 5,
   "metadata": {},
   "outputs": [],
   "source": [
    "#multicollinearity among vars\n",
    "#lm.score(X_train_cv, y_train_cv) #0.841\n",
    "\n",
    "scores = {}\n",
    "ols = LinearRegression()\n",
    "from sklearn.metrics import r2_score\n",
    "\n",
    "for i in X_train_cv.columns:\n",
    "    df = X_train_cv.copy()\n",
    "    feature = df[i].copy()\n",
    "    df.drop(i, axis = 1, inplace = True)\n",
    "    ols.fit(df, feature)\n",
    "    scores[i] = ols.score(df, feature)"
   ]
  },
  {
   "cell_type": "code",
   "execution_count": 8,
   "metadata": {},
   "outputs": [
    {
     "data": {
      "text/plain": [
       "Text(0.5, 1.0, '$R^2$ of a continuous feature against the other features')"
      ]
     },
     "execution_count": 8,
     "metadata": {},
     "output_type": "execute_result"
    },
    {
     "data": {
      "image/png": "[encoded data removed]",
      "text/plain": [
       "<Figure size 1152x432 with 1 Axes>"
      ]
     },
     "metadata": {
      "needs_background": "light"
     },
     "output_type": "display_data"
    }
   ],
   "source": [
    "#visualize how each var is related to each other\n",
    "plt.figure(figsize=(16, 6))\n",
    "sns.barplot(x='index', y='R2', data=pd.DataFrame(scores, index=['R2']).T.reset_index())\n",
    "plt.title('$R^2$ of a continuous feature against the other features')\n"
   ]
  },
  {
   "cell_type": "code",
   "execution_count": 9,
   "metadata": {},
   "outputs": [
    {
     "data": {
      "text/plain": [
       "40"
      ]
     },
     "execution_count": 9,
     "metadata": {},
     "output_type": "execute_result"
    }
   ],
   "source": [
    "#take note of vars with R^2 < 0.5\n",
    "features = [k for k, v in scores.items() if v < 0.5]\n",
    "relevant_features1 = X_train_cv[features]\n",
    "len(relevant_features1.columns)"
   ]
  },
  {
   "cell_type": "code",
   "execution_count": 10,
   "metadata": {},
   "outputs": [
    {
     "name": "stderr",
     "output_type": "stream",
     "text": [
      "/home/sofiawangy/anaconda3/lib/python3.7/site-packages/statsmodels/stats/outliers_influence.py:181: RuntimeWarning: divide by zero encountered in double_scalars\n",
      "  vif = 1. / (1. - r_squared_i)\n"
     ]
    },
    {
     "data": {
      "text/plain": [
       "19"
      ]
     },
     "execution_count": 10,
     "metadata": {},
     "output_type": "execute_result"
    }
   ],
   "source": [
    "#look at multicollinearity with VIF\n",
    "\n",
    "vif = {'factor': [], 'features': []}\n",
    "\n",
    "for i in range(X_train_cv.shape[1]):\n",
    "    factor = variance_inflation_factor(X_train_cv.values, i)\n",
    "    \n",
    "    if factor <= 5:\n",
    "        vif['factor'].append(factor)\n",
    "        vif['features'].append(X_train_cv.columns[i])\n",
    "        \n",
    "relevant_features2 = X_train_cv[vif['features']]\n",
    "\n",
    "len(relevant_features2.columns)\n"
   ]
  },
  {
   "cell_type": "code",
   "execution_count": 11,
   "metadata": {},
   "outputs": [
    {
     "name": "stdout",
     "output_type": "stream",
     "text": [
      "0.5806548906778816\n",
      "0.6118490813151013\n"
     ]
    }
   ],
   "source": [
    "#Get R^2 with non redundant vars from VIF above\n",
    "# 1. with first features\n",
    "lm2 = LinearRegression()\n",
    "lm2.fit(relevant_features1, y_train_cv)\n",
    "print(lm2.score(relevant_features1, y_train_cv)) #0.581, pretty low\n",
    "print(lm2.score(X_test_cv[features], y_test_cv)) #0.611, over fitting\n"
   ]
  },
  {
   "cell_type": "code",
   "execution_count": 12,
   "metadata": {},
   "outputs": [
    {
     "name": "stdout",
     "output_type": "stream",
     "text": [
      "0.5020978863665992\n",
      "0.5075742327235158\n"
     ]
    }
   ],
   "source": [
    "# 2. with second features\n",
    "lm2.fit(relevant_features2, y_train_cv)\n",
    "print(lm2.score(relevant_features2, y_train_cv)) #0.502\n",
    "print(lm2.score(X_test_cv[relevant_features2.columns], y_test_cv)) #0.507, even lower\n"
   ]
  },
  {
   "cell_type": "code",
   "execution_count": 13,
   "metadata": {},
   "outputs": [
    {
     "name": "stdout",
     "output_type": "stream",
     "text": [
      "                            OLS Regression Results                            \n",
      "==============================================================================\n",
      "Dep. Variable:                      y   R-squared:                       0.846\n",
      "Model:                            OLS   Adj. R-squared:                  0.838\n",
      "Method:                 Least Squares   F-statistic:                     98.80\n",
      "Date:                Fri, 24 Jan 2020   Prob (F-statistic):               0.00\n",
      "Time:                        20:59:40   Log-Likelihood:                -17177.\n",
      "No. Observations:                1460   AIC:                         3.451e+04\n",
      "Df Residuals:                    1382   BIC:                         3.492e+04\n",
      "Df Model:                          77                                         \n",
      "Covariance Type:            nonrobust                                         \n",
      "=================================================================================\n",
      "                    coef    std err          t      P>|t|      [0.025      0.975]\n",
      "---------------------------------------------------------------------------------\n",
      "const          2.511e+05   4.85e+04      5.177      0.000    1.56e+05    3.46e+05\n",
      "Exterior1st   -1325.4451    524.786     -2.526      0.012   -2354.908    -295.982\n",
      "YrSold         -918.3291    654.036     -1.404      0.161   -2201.340     364.682\n",
      "Functional     4786.8329    956.556      5.004      0.000    2910.373    6663.292\n",
      "Condition2    -8482.0544   3407.907     -2.489      0.013   -1.52e+04   -1796.824\n",
      "KitchenQual   -9292.4383   1446.253     -6.425      0.000   -1.21e+04   -6455.350\n",
      "Exterior2nd     716.3456    474.463      1.510      0.131    -214.400    1647.091\n",
      "LotConfig       211.3196    549.897      0.384      0.701    -867.403    1290.042\n",
      "Utilities     -4.326e+04   3.36e+04     -1.289      0.198   -1.09e+05    2.26e+04\n",
      "MoSold          706.9397    290.357      2.435      0.015     137.351    1276.528\n",
      "CentralAir       20.0270   4492.280      0.004      0.996   -8792.399    8832.453\n",
      "BsmtFinType2   1351.2035   1382.414      0.977      0.329   -1360.653    4063.060\n",
      "MSSubClass       68.3673    395.099      0.173      0.863    -706.692     843.427\n",
      "MasVnrType     5143.9553   1554.607      3.309      0.001    2094.311    8193.599\n",
      "ExterQual     -1.294e+04   1972.190     -6.562      0.000   -1.68e+04   -9072.094\n",
      "HeatingQC      -800.5318    624.622     -1.282      0.200   -2025.841     424.778\n",
      "OverallQual    2644.5442    806.470      3.279      0.001    1062.507    4226.581\n",
      "FireplaceQu   -1492.2908    963.919     -1.548      0.122   -3383.193     398.611\n",
      "BsmtExposure  -3694.9535    897.004     -4.119      0.000   -5454.591   -1935.316\n",
      "Alley          4639.8463   2425.738      1.913      0.056    -118.681    9398.373\n",
      "Fence          -136.7075    860.879     -0.159      0.874   -1825.478    1552.063\n",
      "GarageQual    -1008.8333   1781.147     -0.566      0.571   -4502.877    2485.211\n",
      "LandSlope      2870.7390   3877.327      0.740      0.459   -4735.344    1.05e+04\n",
      "RoofStyle      2208.6181   1144.555      1.930      0.054     -36.635    4453.872\n",
      "SaleCondition  2854.4587    837.892      3.407      0.001    1210.781    4498.136\n",
      "Heating       -2103.2333   3256.199     -0.646      0.518   -8490.861    4284.395\n",
      "Neighborhood    476.7083    159.020      2.998      0.003     164.762     788.655\n",
      "Electrical     -671.6385    927.517     -0.724      0.469   -2491.131    1147.854\n",
      "GarageCond     3141.5553   2004.918      1.567      0.117    -791.457    7074.567\n",
      "BsmtFinType1   -175.0724    631.937     -0.277      0.782   -1414.732    1064.587\n",
      "RoofMatl       6796.5292   1519.529      4.473      0.000    3815.696    9777.363\n",
      "SaleType       -599.1960    580.661     -1.032      0.302   -1738.269     539.877\n",
      "BsmtQual      -9236.6906   1431.617     -6.452      0.000    -1.2e+04   -6428.313\n",
      "Foundation      994.5807   1686.194      0.590      0.555   -2313.195    4302.357\n",
      "MiscFeature    2800.0766   2715.786      1.031      0.303   -2527.432    8127.586\n",
      "GarageYrBlt      21.6654     63.099      0.343      0.731    -102.114     145.445\n",
      "Condition1     -810.9597   1025.482     -0.791      0.429   -2822.629    1200.709\n",
      "LandContour    2807.0999   1363.946      2.058      0.040     131.472    5482.728\n",
      "OverallCond    6169.1959   1061.536      5.812      0.000    4086.800    8251.592\n",
      "GarageFinish    -54.5930   1452.202     -0.038      0.970   -2903.351    2794.165\n",
      "MSZoning       -913.0649   1525.454     -0.599      0.550   -3905.520    2079.390\n",
      "YearBuilt       293.7019     85.080      3.452      0.001     126.801     460.602\n",
      "PavedDrive     1370.7781   2066.027      0.663      0.507   -2682.109    5423.666\n",
      "BldgType      -4387.7044   1037.860     -4.228      0.000   -6423.656   -2351.753\n",
      "Street         3.777e+04   1.43e+04      2.650      0.008    9806.360    6.57e+04\n",
      "PoolQC         -9.43e+04   1.36e+04     -6.924      0.000   -1.21e+05   -6.76e+04\n",
      "LotShape       -521.9423    685.547     -0.761      0.447   -1866.767     822.883\n",
      "HouseStyle    -1609.4148    655.675     -2.455      0.014   -2895.640    -323.189\n",
      "BsmtCond       2451.6737   1365.047      1.796      0.073    -226.115    5129.462\n",
      "YearRemodAdd     16.1983     69.749      0.232      0.816    -120.627     153.023\n",
      "ExterCond       848.3703   1270.748      0.668      0.504   -1644.434    3341.175\n",
      "GarageType      827.9028    641.609      1.290      0.197    -430.730    2086.536\n",
      "LotFrontage     -27.9715     28.153     -0.994      0.321     -83.199      27.256\n",
      "LotArea           0.3646      0.107      3.407      0.001       0.155       0.574\n",
      "MasVnrArea       37.7923      6.181      6.114      0.000      25.667      49.918\n",
      "HalfBath        -90.7701   2550.068     -0.036      0.972   -5093.193    4911.653\n",
      "BedroomAbvGr  -4650.5075   1678.108     -2.771      0.006   -7942.422   -1358.593\n",
      "KitchenAbvGr  -2.155e+04   5227.528     -4.122      0.000   -3.18e+04   -1.13e+04\n",
      "TotRmsAbvGrd   3799.7788   1187.766      3.199      0.001    1469.760    6129.798\n",
      "Fireplaces     3934.7837   2246.302      1.752      0.080    -471.746    8341.313\n",
      "GarageCars      1.39e+04   2791.617      4.981      0.000    8428.651    1.94e+04\n",
      "GarageArea       -8.5245      9.429     -0.904      0.366     -27.020       9.972\n",
      "WoodDeckSF       20.9892      7.652      2.743      0.006       5.978      36.001\n",
      "OpenPorchSF       0.7440     14.511      0.051      0.959     -27.722      29.210\n",
      "EnclosedPorch     3.1888     15.880      0.201      0.841     -27.962      34.340\n",
      "3SsnPorch        28.2904     29.346      0.964      0.335     -29.276      85.857\n",
      "ScreenPorch      46.4354     16.220      2.863      0.004      14.617      78.253\n",
      "PoolArea       -308.6800     46.917     -6.579      0.000    -400.717    -216.643\n",
      "MiscVal           0.8733      2.160      0.404      0.686      -3.364       5.110\n",
      "BsmtFinSF1        4.3680      2.922      1.495      0.135      -1.364      10.100\n",
      "BsmtFinSF2        7.3877      6.111      1.209      0.227      -4.600      19.376\n",
      "BsmtUnfSF        -4.0613      2.735     -1.485      0.138      -9.427       1.305\n",
      "TotalBsmtSF       7.6943      3.834      2.007      0.045       0.173      15.216\n",
      "1stFlrSF         28.5911      5.948      4.807      0.000      16.923      40.259\n",
      "2ndFlrSF         21.3314      5.486      3.889      0.000      10.570      32.092\n",
      "LowQualFinSF    -24.5785     14.163     -1.735      0.083     -52.362       3.205\n",
      "GrLivArea        25.3440      5.513      4.597      0.000      14.529      36.159\n",
      "BsmtFullBath   6171.5513   2490.095      2.478      0.013    1286.777    1.11e+04\n",
      "BsmtHalfBath   -782.0412   3923.530     -0.199      0.842   -8478.760    6914.678\n",
      "FullBath       4572.2296   2717.602      1.682      0.093    -758.842    9903.301\n",
      "==============================================================================\n",
      "Omnibus:                      625.389   Durbin-Watson:                   1.904\n",
      "Prob(Omnibus):                  0.000   Jarque-Bera (JB):            66892.900\n",
      "Skew:                          -1.007   Prob(JB):                         0.00\n",
      "Kurtosis:                      36.099   Cond. No.                     1.36e+16\n",
      "==============================================================================\n",
      "\n",
      "Warnings:\n",
      "[1] Standard Errors assume that the covariance matrix of the errors is correctly specified.\n",
      "[2] The smallest eigenvalue is 1.69e-21. This might indicate that there are\n",
      "strong multicollinearity problems or that the design matrix is singular.\n"
     ]
    },
    {
     "name": "stderr",
     "output_type": "stream",
     "text": [
      "/home/sofiawangy/anaconda3/lib/python3.7/site-packages/numpy/core/fromnumeric.py:2389: FutureWarning: Method .ptp is deprecated and will be removed in a future version. Use numpy.ptp instead.\n",
      "  return ptp(axis=axis, out=out, **kwargs)\n"
     ]
    }
   ],
   "source": [
    "#Check mulitcollinearity with ANOVA\n",
    "\n",
    "x = sm.add_constant(x_train2)\n",
    "results = sm.OLS(list(y_train), x).fit()\n",
    "print(results.summary())"
   ]
  },
  {
   "cell_type": "code",
   "execution_count": 47,
   "metadata": {},
   "outputs": [],
   "source": [
    "pValues = results.pvalues\n",
    "pValues = list(pValues[pValues<0.05].index)\n",
    "relevant_features3 = X_train_cv.loc[:, pValues[1:]]"
   ]
  },
  {
   "cell_type": "code",
   "execution_count": 48,
   "metadata": {},
   "outputs": [
    {
     "name": "stdout",
     "output_type": "stream",
     "text": [
      "0.8305956026943301\n",
      "0.8414619293400437\n"
     ]
    }
   ],
   "source": [
    "lm2.fit(relevant_features3, y_train_cv)\n",
    "print(lm2.score(relevant_features3, y_train_cv)) #0.83\n",
    "print(lm2.score(X_test_cv[relevant_features3.columns], y_test_cv)) #0.841, better than other methods"
   ]
  },
  {
   "cell_type": "code",
   "execution_count": null,
   "metadata": {},
   "outputs": [],
   "source": [
    "#elasticnet\n"
   ]
  },
  {
   "cell_type": "code",
   "execution_count": null,
   "metadata": {},
   "outputs": [],
   "source": [
    "#random forest"
   ]
  },
  {
   "cell_type": "code",
   "execution_count": null,
   "metadata": {},
   "outputs": [],
   "source": [
    "#gradient boosting"
   ]
  }
 ],
 "metadata": {
  "kernelspec": {
   "display_name": "Python 3",
   "language": "python",
   "name": "python3"
  },
  "language_info": {
   "codemirror_mode": {
    "name": "ipython",
    "version": 3
   },
   "file_extension": ".py",
   "mimetype": "text/x-python",
   "name": "python",
   "nbconvert_exporter": "python",
   "pygments_lexer": "ipython3",
   "version": "3.7.3"
  }
 },
 "nbformat": 4,
 "nbformat_minor": 2
}
